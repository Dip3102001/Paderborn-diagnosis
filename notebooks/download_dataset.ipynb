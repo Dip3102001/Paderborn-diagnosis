{
  "nbformat": 4,
  "nbformat_minor": 0,
  "metadata": {
    "colab": {
      "provenance": []
    },
    "kernelspec": {
      "name": "python3",
      "display_name": "Python 3"
    },
    "language_info": {
      "name": "python"
    }
  },
  "cells": [
    {
      "cell_type": "code",
      "source": [
        "# location of directory where you want to download data\n",
        "location = './data'"
      ],
      "metadata": {
        "id": "P9cUqCV3SAEB"
      },
      "execution_count": null,
      "outputs": []
    },
    {
      "cell_type": "code",
      "source": [
        "import os;\n",
        "import requests\n",
        "from tqdm import tqdm\n",
        "\n",
        "url = \"https://www.kaggle.com/api/v1/datasets/download/dippatel03/paderborn-db\"\n",
        "\n",
        "# Stream the download with a streaming request\n",
        "response = requests.get(url, stream=True, allow_redirects=True)\n",
        "\n",
        "# Get the total file size if available\n",
        "total_size = int(response.headers.get('content-length', 0))\n",
        "\n",
        "# Use tqdm with the total size\n",
        "with open(os.join(location,'paderborn-db.zip'), 'wb') as f:\n",
        "    with tqdm(\n",
        "        total=total_size,\n",
        "        unit='B',\n",
        "        unit_scale=True,\n",
        "        unit_divisor=1024,\n",
        "        desc='Downloading'\n",
        "    ) as pbar:\n",
        "        for chunk in response.iter_content(chunk_size=1024):\n",
        "            if chunk:  # filter out keep-alive chunks\n",
        "                f.write(chunk)\n",
        "                pbar.update(len(chunk))"
      ],
      "metadata": {
        "id": "c0HGp2UATsQH"
      },
      "execution_count": null,
      "outputs": []
    },
    {
      "cell_type": "code",
      "source": [
        "# unziping above data\n",
        "import zipfile\n",
        "with zipfile.ZipFile(os.join(location,'paderborn-db.zip'), 'r') as zip_ref:\n",
        "    zip_ref.extractall(location);"
      ],
      "metadata": {
        "id": "sXZyeEnwUJ3i"
      },
      "execution_count": null,
      "outputs": []
    }
  ]
}