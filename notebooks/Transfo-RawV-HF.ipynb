{
  "cells": [
    {
      "cell_type": "markdown",
      "source": [
        "#### Installing dependencies"
      ],
      "metadata": {
        "id": "4J6fKOCDHBIX"
      }
    },
    {
      "cell_type": "code",
      "execution_count": null,
      "metadata": {
        "colab": {
          "base_uri": "https://localhost:8080/"
        },
        "id": "jdiBraUBCQU8",
        "outputId": "4288ad0e-9937-4eff-90a5-5ee48c3f4ae3",
        "collapsed": true
      },
      "outputs": [
        {
          "name": "stdout",
          "output_type": "stream",
          "text": [
            "Reading package lists... Done\n",
            "Building dependency tree... Done\n",
            "Reading state information... Done\n",
            "octave is already the newest version (6.4.0-2).\n",
            "0 upgraded, 0 newly installed, 0 to remove and 23 not upgraded.\n"
          ]
        }
      ],
      "source": [
        "!sudo apt install octave"
      ]
    },
    {
      "cell_type": "code",
      "execution_count": null,
      "metadata": {
        "colab": {
          "base_uri": "https://localhost:8080/"
        },
        "id": "2xEQeOcuCR4X",
        "outputId": "b59ab750-18da-4563-8ef1-fac19733fd75",
        "collapsed": true
      },
      "outputs": [
        {
          "name": "stdout",
          "output_type": "stream",
          "text": [
            "Requirement already satisfied: torchmetrics in /usr/local/lib/python3.11/dist-packages (1.6.1)\n",
            "Requirement already satisfied: numpy>1.20.0 in /usr/local/lib/python3.11/dist-packages (from torchmetrics) (1.26.4)\n",
            "Requirement already satisfied: packaging>17.1 in /usr/local/lib/python3.11/dist-packages (from torchmetrics) (24.2)\n",
            "Requirement already satisfied: torch>=2.0.0 in /usr/local/lib/python3.11/dist-packages (from torchmetrics) (2.5.1+cu124)\n",
            "Requirement already satisfied: lightning-utilities>=0.8.0 in /usr/local/lib/python3.11/dist-packages (from torchmetrics) (0.12.0)\n",
            "Requirement already satisfied: setuptools in /usr/local/lib/python3.11/dist-packages (from lightning-utilities>=0.8.0->torchmetrics) (75.1.0)\n",
            "Requirement already satisfied: typing_extensions in /usr/local/lib/python3.11/dist-packages (from lightning-utilities>=0.8.0->torchmetrics) (4.12.2)\n",
            "Requirement already satisfied: filelock in /usr/local/lib/python3.11/dist-packages (from torch>=2.0.0->torchmetrics) (3.17.0)\n",
            "Requirement already satisfied: networkx in /usr/local/lib/python3.11/dist-packages (from torch>=2.0.0->torchmetrics) (3.4.2)\n",
            "Requirement already satisfied: jinja2 in /usr/local/lib/python3.11/dist-packages (from torch>=2.0.0->torchmetrics) (3.1.5)\n",
            "Requirement already satisfied: fsspec in /usr/local/lib/python3.11/dist-packages (from torch>=2.0.0->torchmetrics) (2024.10.0)\n",
            "Requirement already satisfied: nvidia-cuda-nvrtc-cu12==12.4.127 in /usr/local/lib/python3.11/dist-packages (from torch>=2.0.0->torchmetrics) (12.4.127)\n",
            "Requirement already satisfied: nvidia-cuda-runtime-cu12==12.4.127 in /usr/local/lib/python3.11/dist-packages (from torch>=2.0.0->torchmetrics) (12.4.127)\n",
            "Requirement already satisfied: nvidia-cuda-cupti-cu12==12.4.127 in /usr/local/lib/python3.11/dist-packages (from torch>=2.0.0->torchmetrics) (12.4.127)\n",
            "Requirement already satisfied: nvidia-cudnn-cu12==9.1.0.70 in /usr/local/lib/python3.11/dist-packages (from torch>=2.0.0->torchmetrics) (9.1.0.70)\n",
            "Requirement already satisfied: nvidia-cublas-cu12==12.4.5.8 in /usr/local/lib/python3.11/dist-packages (from torch>=2.0.0->torchmetrics) (12.4.5.8)\n",
            "Requirement already satisfied: nvidia-cufft-cu12==11.2.1.3 in /usr/local/lib/python3.11/dist-packages (from torch>=2.0.0->torchmetrics) (11.2.1.3)\n",
            "Requirement already satisfied: nvidia-curand-cu12==10.3.5.147 in /usr/local/lib/python3.11/dist-packages (from torch>=2.0.0->torchmetrics) (10.3.5.147)\n",
            "Requirement already satisfied: nvidia-cusolver-cu12==11.6.1.9 in /usr/local/lib/python3.11/dist-packages (from torch>=2.0.0->torchmetrics) (11.6.1.9)\n",
            "Requirement already satisfied: nvidia-cusparse-cu12==12.3.1.170 in /usr/local/lib/python3.11/dist-packages (from torch>=2.0.0->torchmetrics) (12.3.1.170)\n",
            "Requirement already satisfied: nvidia-nccl-cu12==2.21.5 in /usr/local/lib/python3.11/dist-packages (from torch>=2.0.0->torchmetrics) (2.21.5)\n",
            "Requirement already satisfied: nvidia-nvtx-cu12==12.4.127 in /usr/local/lib/python3.11/dist-packages (from torch>=2.0.0->torchmetrics) (12.4.127)\n",
            "Requirement already satisfied: nvidia-nvjitlink-cu12==12.4.127 in /usr/local/lib/python3.11/dist-packages (from torch>=2.0.0->torchmetrics) (12.4.127)\n",
            "Requirement already satisfied: triton==3.1.0 in /usr/local/lib/python3.11/dist-packages (from torch>=2.0.0->torchmetrics) (3.1.0)\n",
            "Requirement already satisfied: sympy==1.13.1 in /usr/local/lib/python3.11/dist-packages (from torch>=2.0.0->torchmetrics) (1.13.1)\n",
            "Requirement already satisfied: mpmath<1.4,>=1.1.0 in /usr/local/lib/python3.11/dist-packages (from sympy==1.13.1->torch>=2.0.0->torchmetrics) (1.3.0)\n",
            "Requirement already satisfied: MarkupSafe>=2.0 in /usr/local/lib/python3.11/dist-packages (from jinja2->torch>=2.0.0->torchmetrics) (3.0.2)\n"
          ]
        }
      ],
      "source": [
        "!pip install torchmetrics"
      ]
    },
    {
      "cell_type": "code",
      "execution_count": null,
      "metadata": {
        "colab": {
          "background_save": true,
          "base_uri": "https://localhost:8080/"
        },
        "id": "mh2XrowdCVdB",
        "outputId": "3e31fd52-8e2e-420d-f35b-a9ef9e2117df",
        "collapsed": true
      },
      "outputs": [
        {
          "name": "stdout",
          "output_type": "stream",
          "text": [
            "Requirement already satisfied: oct2py in /usr/local/lib/python3.11/dist-packages (5.8.0)\n",
            "Requirement already satisfied: numpy>=1.12 in /usr/local/lib/python3.11/dist-packages (from oct2py) (1.26.4)\n",
            "Requirement already satisfied: octave-kernel>=0.34.0 in /usr/local/lib/python3.11/dist-packages (from oct2py) (0.36.0)\n",
            "Requirement already satisfied: scipy>=0.17 in /usr/local/lib/python3.11/dist-packages (from oct2py) (1.13.1)\n",
            "Requirement already satisfied: ipykernel in /usr/local/lib/python3.11/dist-packages (from octave-kernel>=0.34.0->oct2py) (6.17.1)\n",
            "Requirement already satisfied: jupyter-client>=4.3.0 in /usr/local/lib/python3.11/dist-packages (from octave-kernel>=0.34.0->oct2py) (6.1.12)\n",
            "Requirement already satisfied: metakernel>=0.24.0 in /usr/local/lib/python3.11/dist-packages (from octave-kernel>=0.34.0->oct2py) (0.30.2)\n",
            "Requirement already satisfied: traitlets in /usr/local/lib/python3.11/dist-packages (from jupyter-client>=4.3.0->octave-kernel>=0.34.0->oct2py) (5.7.1)\n",
            "Requirement already satisfied: jupyter-core>=4.6.0 in /usr/local/lib/python3.11/dist-packages (from jupyter-client>=4.3.0->octave-kernel>=0.34.0->oct2py) (5.7.2)\n",
            "Requirement already satisfied: pyzmq>=13 in /usr/local/lib/python3.11/dist-packages (from jupyter-client>=4.3.0->octave-kernel>=0.34.0->oct2py) (24.0.1)\n",
            "Requirement already satisfied: python-dateutil>=2.1 in /usr/local/lib/python3.11/dist-packages (from jupyter-client>=4.3.0->octave-kernel>=0.34.0->oct2py) (2.8.2)\n",
            "Requirement already satisfied: tornado>=4.1 in /usr/local/lib/python3.11/dist-packages (from jupyter-client>=4.3.0->octave-kernel>=0.34.0->oct2py) (6.4.2)\n",
            "Requirement already satisfied: jedi>=0.18 in /usr/local/lib/python3.11/dist-packages (from metakernel>=0.24.0->octave-kernel>=0.34.0->oct2py) (0.19.2)\n",
            "Requirement already satisfied: pexpect>=4.8 in /usr/local/lib/python3.11/dist-packages (from metakernel>=0.24.0->octave-kernel>=0.34.0->oct2py) (4.9.0)\n",
            "Requirement already satisfied: debugpy>=1.0 in /usr/local/lib/python3.11/dist-packages (from ipykernel->octave-kernel>=0.34.0->oct2py) (1.8.0)\n",
            "Requirement already satisfied: ipython>=7.23.1 in /usr/local/lib/python3.11/dist-packages (from ipykernel->octave-kernel>=0.34.0->oct2py) (7.34.0)\n",
            "Requirement already satisfied: matplotlib-inline>=0.1 in /usr/local/lib/python3.11/dist-packages (from ipykernel->octave-kernel>=0.34.0->oct2py) (0.1.7)\n",
            "Requirement already satisfied: nest-asyncio in /usr/local/lib/python3.11/dist-packages (from ipykernel->octave-kernel>=0.34.0->oct2py) (1.6.0)\n",
            "Requirement already satisfied: packaging in /usr/local/lib/python3.11/dist-packages (from ipykernel->octave-kernel>=0.34.0->oct2py) (24.2)\n",
            "Requirement already satisfied: psutil in /usr/local/lib/python3.11/dist-packages (from ipykernel->octave-kernel>=0.34.0->oct2py) (5.9.5)\n",
            "Requirement already satisfied: setuptools>=18.5 in /usr/local/lib/python3.11/dist-packages (from ipython>=7.23.1->ipykernel->octave-kernel>=0.34.0->oct2py) (75.1.0)\n",
            "Requirement already satisfied: decorator in /usr/local/lib/python3.11/dist-packages (from ipython>=7.23.1->ipykernel->octave-kernel>=0.34.0->oct2py) (4.4.2)\n",
            "Requirement already satisfied: pickleshare in /usr/local/lib/python3.11/dist-packages (from ipython>=7.23.1->ipykernel->octave-kernel>=0.34.0->oct2py) (0.7.5)\n",
            "Requirement already satisfied: prompt-toolkit!=3.0.0,!=3.0.1,<3.1.0,>=2.0.0 in /usr/local/lib/python3.11/dist-packages (from ipython>=7.23.1->ipykernel->octave-kernel>=0.34.0->oct2py) (3.0.50)\n",
            "Requirement already satisfied: pygments in /usr/local/lib/python3.11/dist-packages (from ipython>=7.23.1->ipykernel->octave-kernel>=0.34.0->oct2py) (2.18.0)\n",
            "Requirement already satisfied: backcall in /usr/local/lib/python3.11/dist-packages (from ipython>=7.23.1->ipykernel->octave-kernel>=0.34.0->oct2py) (0.2.0)\n",
            "Requirement already satisfied: parso<0.9.0,>=0.8.4 in /usr/local/lib/python3.11/dist-packages (from jedi>=0.18->metakernel>=0.24.0->octave-kernel>=0.34.0->oct2py) (0.8.4)\n",
            "Requirement already satisfied: platformdirs>=2.5 in /usr/local/lib/python3.11/dist-packages (from jupyter-core>=4.6.0->jupyter-client>=4.3.0->octave-kernel>=0.34.0->oct2py) (4.3.6)\n",
            "Requirement already satisfied: ptyprocess>=0.5 in /usr/local/lib/python3.11/dist-packages (from pexpect>=4.8->metakernel>=0.24.0->octave-kernel>=0.34.0->oct2py) (0.7.0)\n",
            "Requirement already satisfied: six>=1.5 in /usr/local/lib/python3.11/dist-packages (from python-dateutil>=2.1->jupyter-client>=4.3.0->octave-kernel>=0.34.0->oct2py) (1.17.0)\n",
            "Requirement already satisfied: wcwidth in /usr/local/lib/python3.11/dist-packages (from prompt-toolkit!=3.0.0,!=3.0.1,<3.1.0,>=2.0.0->ipython>=7.23.1->ipykernel->octave-kernel>=0.34.0->oct2py) (0.2.13)\n"
          ]
        }
      ],
      "source": [
        "!pip install oct2py"
      ]
    },
    {
      "cell_type": "markdown",
      "source": [
        "#### Importing Pkgs"
      ],
      "metadata": {
        "id": "ZTtUelClHiwL"
      }
    },
    {
      "cell_type": "code",
      "execution_count": null,
      "metadata": {
        "colab": {
          "background_save": true
        },
        "id": "GkASk1ntCWwA"
      },
      "outputs": [],
      "source": [
        "from oct2py import Oct2Py\n",
        "\n",
        "oc = Oct2Py();"
      ]
    },
    {
      "cell_type": "code",
      "execution_count": null,
      "metadata": {
        "colab": {
          "background_save": true
        },
        "id": "v4TikcPJCYMq"
      },
      "outputs": [],
      "source": [
        "import torch;\n",
        "import torch.nn as nn;\n",
        "import torch.nn.functional as F;\n",
        "from torch.utils.data import Dataset, DataLoader;\n",
        "\n",
        "import matplotlib.pyplot as plt;\n",
        "import numpy as np;\n",
        "\n",
        "from tqdm import tqdm;"
      ]
    },
    {
      "cell_type": "code",
      "execution_count": null,
      "metadata": {
        "colab": {
          "background_save": true
        },
        "id": "ZhWeG9VtCZaO"
      },
      "outputs": [],
      "source": [
        "from torchmetrics.classification import Accuracy,Precision, Recall, F1Score, ConfusionMatrix;"
      ]
    },
    {
      "cell_type": "code",
      "execution_count": null,
      "metadata": {
        "colab": {
          "background_save": true
        },
        "id": "Z7naOC64CabM"
      },
      "outputs": [],
      "source": [
        "import pandas as pd;\n",
        "import random;"
      ]
    },
    {
      "cell_type": "code",
      "execution_count": null,
      "metadata": {
        "colab": {
          "background_save": true
        },
        "id": "5srtDDE-Cbsp"
      },
      "outputs": [],
      "source": [
        "import json;"
      ]
    },
    {
      "cell_type": "code",
      "execution_count": null,
      "metadata": {
        "colab": {
          "background_save": true
        },
        "id": "gZdxk-lSCclp"
      },
      "outputs": [],
      "source": [
        "import os;\n",
        "import os.path;"
      ]
    },
    {
      "cell_type": "code",
      "execution_count": null,
      "metadata": {
        "colab": {
          "background_save": true
        },
        "id": "2a7Bb_3tCdhI"
      },
      "outputs": [],
      "source": [
        "import re;"
      ]
    },
    {
      "cell_type": "code",
      "execution_count": null,
      "metadata": {
        "colab": {
          "background_save": true,
          "base_uri": "https://localhost:8080/"
        },
        "id": "aZwZSLDgCe6C",
        "outputId": "d8357894-43c7-49a5-d534-2708478c8865"
      },
      "outputs": [
        {
          "name": "stdout",
          "output_type": "stream",
          "text": [
            "cuda\n"
          ]
        }
      ],
      "source": [
        "device = torch.device(\"cuda\" if torch.cuda.is_available() else \"cpu\");\n",
        "print(device);"
      ]
    },
    {
      "cell_type": "code",
      "execution_count": null,
      "metadata": {
        "colab": {
          "background_save": true
        },
        "id": "_cx5h_2qCf0t"
      },
      "outputs": [],
      "source": [
        "seed = 42;"
      ]
    },
    {
      "cell_type": "code",
      "execution_count": null,
      "metadata": {
        "colab": {
          "background_save": true
        },
        "id": "ic9oNWkkCg4J"
      },
      "outputs": [],
      "source": [
        "np.random.seed(seed);\n",
        "random.seed(seed);\n",
        "torch.manual_seed(seed);\n",
        "\n",
        "if torch.cuda.is_available():\n",
        "    torch.cuda.manual_seed(seed);\n",
        "    torch.cuda.manual_seed_all(seed);"
      ]
    },
    {
      "cell_type": "code",
      "execution_count": null,
      "metadata": {
        "colab": {
          "background_save": true
        },
        "id": "m3-f42xcCg6v"
      },
      "outputs": [],
      "source": [
        "def getYLabel(filename):\n",
        "    output = {\n",
        "            \"K\" : 0,\n",
        "            \"KA\" : 1,\n",
        "            \"KI\" : 2\n",
        "    };\n",
        "\n",
        "    code = filename.split(\"_\")[3];\n",
        "\n",
        "    if code.startswith(\"KA\"):\n",
        "        return output[\"KA\"];\n",
        "    elif code.startswith(\"KI\"):\n",
        "        return output[\"KI\"];\n",
        "    else:\n",
        "        return output[\"K\"];"
      ]
    },
    {
      "cell_type": "markdown",
      "source": [
        "#### Dataset Creation"
      ],
      "metadata": {
        "id": "XJY-5cWdHo6R"
      }
    },
    {
      "cell_type": "code",
      "execution_count": null,
      "metadata": {
        "colab": {
          "background_save": true
        },
        "id": "6tH9vL25Cg9B"
      },
      "outputs": [],
      "source": [
        "class CustomDataset(Dataset):\n",
        "    def __init__(self, root_dir, code, healty_end_points, faulty_end_points, oc, width, signal=\"vibration\"):\n",
        "        self.root_dir = root_dir;\n",
        "        self.healty_end_points = healty_end_points;\n",
        "        self.faulty_end_points = faulty_end_points;\n",
        "        self.oc = oc;\n",
        "\n",
        "        self.width = width;\n",
        "\n",
        "        self.X = [];\n",
        "        self.Y = [];\n",
        "\n",
        "        self.signal = signal;\n",
        "\n",
        "        for healty_end_point in self.healty_end_points:\n",
        "            for mat_healthy_end_point in os.listdir(os.path.join(self.root_dir, healty_end_point)):\n",
        "                if mat_healthy_end_point.endswith(\".mat\") and mat_healthy_end_point.startswith(code):\n",
        "                    self.X.append(os.path.join(self.root_dir, healty_end_point, mat_healthy_end_point));\n",
        "                    self.Y.append(getYLabel(mat_healthy_end_point));\n",
        "\n",
        "        for faulty_end_point in self.faulty_end_points:\n",
        "            for mat_faulty_end_point in os.listdir(os.path.join(self.root_dir, faulty_end_point)):\n",
        "                if mat_faulty_end_point.endswith(\".mat\") and mat_faulty_end_point.startswith(code):\n",
        "                    self.X.append(os.path.join(self.root_dir, faulty_end_point, mat_faulty_end_point));\n",
        "                    self.Y.append(getYLabel(mat_faulty_end_point));\n",
        "\n",
        "\n",
        "    def __len__(self):\n",
        "        return len(self.X);\n",
        "\n",
        "    def __getitem__(self, idx):\n",
        "        data = self.oc.load(self.X[idx]);\n",
        "        field = list(data.keys())[0];\n",
        "\n",
        "        x = data[field]['Y']['Data'][0][6].flatten();\n",
        "\n",
        "        w = x.shape[-1];\n",
        "\n",
        "        if(w < self.width):\n",
        "            x = np.pad(x, pad_width = (0, self.width - w), mode = 'constant');\n",
        "        elif(w > self.width):\n",
        "            x = x[:self.width];\n",
        "\n",
        "\n",
        "        y = torch.full((250,),self.Y[idx]).to(torch.long);\n",
        "        X = torch.tensor(x).to(torch.float32);\n",
        "\n",
        "        X = X - X.mean();\n",
        "        X = X / X.std();\n",
        "\n",
        "        return X.reshape(250,1024), y;"
      ]
    },
    {
      "cell_type": "code",
      "execution_count": null,
      "metadata": {
        "colab": {
          "background_save": true
        },
        "id": "evr3whxBCkud"
      },
      "outputs": [],
      "source": [
        "def getCode(N, M, F):\n",
        "    return f\"N{N:02}\" + \"_\" + f\"M{M:02}\" + \"_\" + f\"F{F:02}\";"
      ]
    },
    {
      "cell_type": "code",
      "execution_count": null,
      "metadata": {
        "colab": {
          "background_save": true
        },
        "id": "NfjnhEPVCg_X"
      },
      "outputs": [],
      "source": [
        "code = getCode(15, 7, 10);"
      ]
    },
    {
      "cell_type": "code",
      "execution_count": null,
      "metadata": {
        "colab": {
          "background_save": true
        },
        "id": "c4-B1YsTCnhK"
      },
      "outputs": [],
      "source": [
        "# ratios = {2:5, 6:5, 8:5}\n",
        "def getDataset(code, signal = \"vibration\", width=256000, ratios=\"6:5\"):\n",
        "    root_dir = \"/content/drive/MyDrive/PaderbornExtracted\";\n",
        "    healty_end_points = [\"K001\",\"K002\",\"K003\",\"K004\",\"K005\",\"K006\"];\n",
        "    faulty_end_points_inner = [\"KI04\",\"KI14\",\"KI16\",\"KI17\",\"KI18\",\"KI21\"];\n",
        "    faulty_end_points_outer = [\"KA04\",\"KA15\",\"KA16\",\"KA22\",\"KA30\"];\n",
        "\n",
        "    f,h = ratios.split(\":\");\n",
        "\n",
        "    f,h = int(f), int(h);\n",
        "\n",
        "    healthy_training_end_points = healty_end_points[:h];\n",
        "    healthy_testing_end_points = healty_end_points[h:];\n",
        "\n",
        "    faulty_training_end_points = faulty_end_points_inner[:f//2] + faulty_end_points_outer[:f//2];\n",
        "    faulty_testing_end_points = faulty_end_points_inner[f//2:] + faulty_end_points_outer[f//2:];\n",
        "\n",
        "    train_dataset = CustomDataset(root_dir, code, healthy_training_end_points, faulty_training_end_points, oc, width, signal);\n",
        "    test_dataset = CustomDataset(root_dir, code, healthy_testing_end_points, faulty_testing_end_points, oc, width, signal);\n",
        "\n",
        "    return train_dataset, test_dataset;"
      ]
    },
    {
      "cell_type": "code",
      "execution_count": null,
      "metadata": {
        "colab": {
          "background_save": true,
          "base_uri": "https://localhost:8080/",
          "height": 1000
        },
        "id": "R7cQ0Kv5CrdK",
        "outputId": "0e6f7259-75c5-4089-fe13-24ebb3c78e4c",
        "collapsed": true
      },
      "outputs": [
        {
          "name": "stdout",
          "output_type": "stream",
          "text": [
            "N15_M07_F10_K001_1.mat\n",
            "N15_M07_F10_K001_2.mat\n",
            "N15_M07_F10_K001_3.mat\n",
            "N15_M07_F10_K001_4.mat\n",
            "N15_M07_F10_K001_5.mat\n",
            "N15_M07_F10_K001_6.mat\n",
            "N15_M07_F10_K001_7.mat\n",
            "N15_M07_F10_K001_8.mat\n",
            "N15_M07_F10_K001_9.mat\n",
            "N15_M07_F10_K001_10.mat\n",
            "N15_M07_F10_K001_11.mat\n",
            "N15_M07_F10_K001_12.mat\n",
            "N15_M07_F10_K001_13.mat\n",
            "N15_M07_F10_K001_14.mat\n",
            "N15_M07_F10_K001_15.mat\n",
            "N15_M07_F10_K001_16.mat\n",
            "N15_M07_F10_K001_17.mat\n",
            "N15_M07_F10_K001_18.mat\n",
            "N15_M07_F10_K001_20.mat\n",
            "N15_M07_F10_K001_19.mat\n",
            "N15_M07_F10_K002_1.mat\n",
            "N15_M07_F10_K002_2.mat\n",
            "N15_M07_F10_K002_4.mat\n",
            "N15_M07_F10_K002_5.mat\n",
            "N15_M07_F10_K002_6.mat\n",
            "N15_M07_F10_K002_11.mat\n",
            "N15_M07_F10_K002_14.mat\n",
            "N15_M07_F10_K002_15.mat\n",
            "N15_M07_F10_K002_17.mat\n",
            "N15_M07_F10_K002_20.mat\n",
            "N15_M07_F10_K002_3.mat\n",
            "N15_M07_F10_K002_7.mat\n",
            "N15_M07_F10_K002_8.mat\n",
            "N15_M07_F10_K002_10.mat\n",
            "N15_M07_F10_K002_13.mat\n",
            "N15_M07_F10_K002_16.mat\n",
            "N15_M07_F10_K002_9.mat\n",
            "N15_M07_F10_K002_12.mat\n",
            "N15_M07_F10_K002_19.mat\n",
            "N15_M07_F10_K002_18.mat\n",
            "N15_M07_F10_K003_1.mat\n",
            "N15_M07_F10_K003_2.mat\n",
            "N15_M07_F10_K003_3.mat\n",
            "N15_M07_F10_K003_4.mat\n",
            "N15_M07_F10_K003_5.mat\n",
            "N15_M07_F10_K003_6.mat\n",
            "N15_M07_F10_K003_7.mat\n",
            "N15_M07_F10_K003_8.mat\n",
            "N15_M07_F10_K003_9.mat\n",
            "N15_M07_F10_K003_10.mat\n",
            "N15_M07_F10_K003_11.mat\n",
            "N15_M07_F10_K003_12.mat\n",
            "N15_M07_F10_K003_13.mat\n",
            "N15_M07_F10_K003_14.mat\n",
            "N15_M07_F10_K003_15.mat\n",
            "N15_M07_F10_K003_16.mat\n",
            "N15_M07_F10_K003_17.mat\n",
            "N15_M07_F10_K003_18.mat\n",
            "N15_M07_F10_K003_19.mat\n",
            "N15_M07_F10_K003_20.mat\n",
            "N15_M07_F10_K004_1.mat\n",
            "N15_M07_F10_K004_2.mat\n",
            "N15_M07_F10_K004_3.mat\n",
            "N15_M07_F10_K004_4.mat\n",
            "N15_M07_F10_K004_5.mat\n",
            "N15_M07_F10_K004_6.mat\n",
            "N15_M07_F10_K004_7.mat\n",
            "N15_M07_F10_K004_8.mat\n",
            "N15_M07_F10_K004_9.mat\n",
            "N15_M07_F10_K004_10.mat\n",
            "N15_M07_F10_K004_11.mat\n",
            "N15_M07_F10_K004_12.mat\n",
            "N15_M07_F10_K004_13.mat\n",
            "N15_M07_F10_K004_14.mat\n",
            "N15_M07_F10_K004_15.mat\n",
            "N15_M07_F10_K004_16.mat\n",
            "N15_M07_F10_K004_17.mat\n",
            "N15_M07_F10_K004_18.mat\n",
            "N15_M07_F10_K004_19.mat\n",
            "N15_M07_F10_K004_20.mat\n",
            "N15_M07_F10_K005_1.mat\n",
            "N15_M07_F10_K005_2.mat\n",
            "N15_M07_F10_K005_3.mat\n",
            "N15_M07_F10_K005_4.mat\n",
            "N15_M07_F10_K005_5.mat\n",
            "N15_M07_F10_K005_6.mat\n",
            "N15_M07_F10_K005_7.mat\n",
            "N15_M07_F10_K005_8.mat\n",
            "N15_M07_F10_K005_9.mat\n",
            "N15_M07_F10_K005_10.mat\n",
            "N15_M07_F10_K005_11.mat\n",
            "N15_M07_F10_K005_12.mat\n",
            "N15_M07_F10_K005_13.mat\n",
            "N15_M07_F10_K005_14.mat\n",
            "N15_M07_F10_K005_15.mat\n",
            "N15_M07_F10_K005_16.mat\n",
            "N15_M07_F10_K005_17.mat\n",
            "N15_M07_F10_K005_18.mat\n",
            "N15_M07_F10_K005_19.mat\n",
            "N15_M07_F10_K005_20.mat\n",
            "N15_M07_F10_KI04_1.mat\n",
            "N15_M07_F10_KI04_2.mat\n",
            "N15_M07_F10_KI04_3.mat\n",
            "N15_M07_F10_KI04_4.mat\n",
            "N15_M07_F10_KI04_5.mat\n",
            "N15_M07_F10_KI04_6.mat\n",
            "N15_M07_F10_KI04_7.mat\n",
            "N15_M07_F10_KI04_8.mat\n",
            "N15_M07_F10_KI04_9.mat\n",
            "N15_M07_F10_KI04_10.mat\n",
            "N15_M07_F10_KI04_11.mat\n",
            "N15_M07_F10_KI04_12.mat\n",
            "N15_M07_F10_KI04_13.mat\n",
            "N15_M07_F10_KI04_14.mat\n",
            "N15_M07_F10_KI04_15.mat\n",
            "N15_M07_F10_KI04_16.mat\n",
            "N15_M07_F10_KI04_17.mat\n",
            "N15_M07_F10_KI04_18.mat\n",
            "N15_M07_F10_KI04_19.mat\n",
            "N15_M07_F10_KI04_20.mat\n",
            "N15_M07_F10_KI14_1.mat\n",
            "N15_M07_F10_KI14_2.mat\n",
            "N15_M07_F10_KI14_3.mat\n",
            "N15_M07_F10_KI14_4.mat\n",
            "N15_M07_F10_KI14_5.mat\n",
            "N15_M07_F10_KI14_6.mat\n",
            "N15_M07_F10_KI14_7.mat\n",
            "N15_M07_F10_KI14_8.mat\n",
            "N15_M07_F10_KI14_9.mat\n",
            "N15_M07_F10_KI14_10.mat\n",
            "N15_M07_F10_KI14_11.mat\n",
            "N15_M07_F10_KI14_12.mat\n",
            "N15_M07_F10_KI14_13.mat\n",
            "N15_M07_F10_KI14_14.mat\n",
            "N15_M07_F10_KI14_15.mat\n",
            "N15_M07_F10_KI14_16.mat\n",
            "N15_M07_F10_KI14_17.mat\n",
            "N15_M07_F10_KI14_18.mat\n",
            "N15_M07_F10_KI14_19.mat\n",
            "N15_M07_F10_KI14_20.mat\n",
            "N15_M07_F10_KI16_1.mat\n",
            "N15_M07_F10_KI16_2.mat\n",
            "N15_M07_F10_KI16_3.mat\n",
            "N15_M07_F10_KI16_4.mat\n",
            "N15_M07_F10_KI16_5.mat\n",
            "N15_M07_F10_KI16_6.mat\n",
            "N15_M07_F10_KI16_7.mat\n",
            "N15_M07_F10_KI16_8.mat\n",
            "N15_M07_F10_KI16_9.mat\n",
            "N15_M07_F10_KI16_10.mat\n",
            "N15_M07_F10_KI16_11.mat\n",
            "N15_M07_F10_KI16_12.mat\n",
            "N15_M07_F10_KI16_13.mat\n",
            "N15_M07_F10_KI16_14.mat\n",
            "N15_M07_F10_KI16_15.mat\n",
            "N15_M07_F10_KI16_16.mat\n",
            "N15_M07_F10_KI16_17.mat\n",
            "N15_M07_F10_KI16_18.mat\n",
            "N15_M07_F10_KI16_19.mat\n",
            "N15_M07_F10_KI16_20.mat\n",
            "N15_M07_F10_KA04_1.mat\n",
            "N15_M07_F10_KA04_2.mat\n",
            "N15_M07_F10_KA04_3.mat\n",
            "N15_M07_F10_KA04_4.mat\n",
            "N15_M07_F10_KA04_5.mat\n",
            "N15_M07_F10_KA04_6.mat\n",
            "N15_M07_F10_KA04_7.mat\n",
            "N15_M07_F10_KA04_8.mat\n",
            "N15_M07_F10_KA04_9.mat\n",
            "N15_M07_F10_KA04_10.mat\n",
            "N15_M07_F10_KA04_11.mat\n",
            "N15_M07_F10_KA04_14.mat\n",
            "N15_M07_F10_KA04_13.mat\n",
            "N15_M07_F10_KA04_12.mat\n",
            "N15_M07_F10_KA04_15.mat\n",
            "N15_M07_F10_KA04_16.mat\n",
            "N15_M07_F10_KA04_17.mat\n",
            "N15_M07_F10_KA04_18.mat\n",
            "N15_M07_F10_KA04_19.mat\n",
            "N15_M07_F10_KA04_20.mat\n",
            "N15_M07_F10_KA15_1.mat\n",
            "N15_M07_F10_KA15_2.mat\n",
            "N15_M07_F10_KA15_3.mat\n",
            "N15_M07_F10_KA15_4.mat\n",
            "N15_M07_F10_KA15_5.mat\n",
            "N15_M07_F10_KA15_6.mat\n",
            "N15_M07_F10_KA15_7.mat\n",
            "N15_M07_F10_KA15_8.mat\n",
            "N15_M07_F10_KA15_9.mat\n",
            "N15_M07_F10_KA15_10.mat\n",
            "N15_M07_F10_KA15_11.mat\n",
            "N15_M07_F10_KA15_12.mat\n",
            "N15_M07_F10_KA15_13.mat\n",
            "N15_M07_F10_KA15_14.mat\n",
            "N15_M07_F10_KA15_15.mat\n",
            "N15_M07_F10_KA15_16.mat\n",
            "N15_M07_F10_KA15_17.mat\n",
            "N15_M07_F10_KA15_18.mat\n",
            "N15_M07_F10_KA15_19.mat\n",
            "N15_M07_F10_KA15_20.mat\n",
            "N15_M07_F10_KA16_1.mat\n",
            "N15_M07_F10_KA16_2.mat\n",
            "N15_M07_F10_KA16_3.mat\n",
            "N15_M07_F10_KA16_4.mat\n",
            "N15_M07_F10_KA16_5.mat\n",
            "N15_M07_F10_KA16_6.mat\n",
            "N15_M07_F10_KA16_7.mat\n",
            "N15_M07_F10_KA16_8.mat\n",
            "N15_M07_F10_KA16_9.mat\n",
            "N15_M07_F10_KA16_10.mat\n",
            "N15_M07_F10_KA16_11.mat\n",
            "N15_M07_F10_KA16_12.mat\n",
            "N15_M07_F10_KA16_13.mat\n",
            "N15_M07_F10_KA16_14.mat\n",
            "N15_M07_F10_KA16_15.mat\n",
            "N15_M07_F10_KA16_16.mat\n",
            "N15_M07_F10_KA16_17.mat\n",
            "N15_M07_F10_KA16_18.mat\n",
            "N15_M07_F10_KA16_19.mat\n",
            "N15_M07_F10_KA16_20.mat\n"
          ]
        },
        {
          "data": {
            "image/png": "[encoded data removed]",
            "text/plain": [
              "<Figure size 640x480 with 1 Axes>"
            ]
          },
          "metadata": {},
          "output_type": "display_data"
        },
        {
          "name": "stdout",
          "output_type": "stream",
          "text": [
            "N15_M07_F10_K006_1.mat\n",
            "N15_M07_F10_K006_2.mat\n",
            "N15_M07_F10_K006_3.mat\n",
            "N15_M07_F10_K006_4.mat\n",
            "N15_M07_F10_K006_5.mat\n",
            "N15_M07_F10_K006_6.mat\n",
            "N15_M07_F10_K006_7.mat\n",
            "N15_M07_F10_K006_8.mat\n",
            "N15_M07_F10_K006_9.mat\n",
            "N15_M07_F10_K006_10.mat\n",
            "N15_M07_F10_K006_11.mat\n",
            "N15_M07_F10_K006_12.mat\n",
            "N15_M07_F10_K006_13.mat\n",
            "N15_M07_F10_K006_14.mat\n",
            "N15_M07_F10_K006_15.mat\n",
            "N15_M07_F10_K006_16.mat\n",
            "N15_M07_F10_K006_17.mat\n",
            "N15_M07_F10_K006_18.mat\n",
            "N15_M07_F10_K006_19.mat\n",
            "N15_M07_F10_K006_20.mat\n",
            "N15_M07_F10_KI17_1.mat\n",
            "N15_M07_F10_KI17_2.mat\n",
            "N15_M07_F10_KI17_3.mat\n",
            "N15_M07_F10_KI17_4.mat\n",
            "N15_M07_F10_KI17_5.mat\n",
            "N15_M07_F10_KI17_6.mat\n",
            "N15_M07_F10_KI17_7.mat\n",
            "N15_M07_F10_KI17_8.mat\n",
            "N15_M07_F10_KI17_9.mat\n",
            "N15_M07_F10_KI17_10.mat\n",
            "N15_M07_F10_KI17_11.mat\n",
            "N15_M07_F10_KI17_12.mat\n",
            "N15_M07_F10_KI17_13.mat\n",
            "N15_M07_F10_KI17_14.mat\n",
            "N15_M07_F10_KI17_15.mat\n",
            "N15_M07_F10_KI17_16.mat\n",
            "N15_M07_F10_KI17_17.mat\n",
            "N15_M07_F10_KI17_18.mat\n",
            "N15_M07_F10_KI17_19.mat\n",
            "N15_M07_F10_KI17_20.mat\n",
            "N15_M07_F10_KI18_1.mat\n",
            "N15_M07_F10_KI18_2.mat\n",
            "N15_M07_F10_KI18_3.mat\n",
            "N15_M07_F10_KI18_4.mat\n",
            "N15_M07_F10_KI18_5.mat\n",
            "N15_M07_F10_KI18_6.mat\n",
            "N15_M07_F10_KI18_7.mat\n",
            "N15_M07_F10_KI18_8.mat\n",
            "N15_M07_F10_KI18_9.mat\n",
            "N15_M07_F10_KI18_10.mat\n",
            "N15_M07_F10_KI18_11.mat\n",
            "N15_M07_F10_KI18_12.mat\n",
            "N15_M07_F10_KI18_13.mat\n",
            "N15_M07_F10_KI18_14.mat\n",
            "N15_M07_F10_KI18_15.mat\n",
            "N15_M07_F10_KI18_16.mat\n",
            "N15_M07_F10_KI18_17.mat\n",
            "N15_M07_F10_KI18_18.mat\n",
            "N15_M07_F10_KI18_19.mat\n",
            "N15_M07_F10_KI18_20.mat\n",
            "N15_M07_F10_KI21_1.mat\n",
            "N15_M07_F10_KI21_2.mat\n",
            "N15_M07_F10_KI21_3.mat\n",
            "N15_M07_F10_KI21_4.mat\n",
            "N15_M07_F10_KI21_5.mat\n",
            "N15_M07_F10_KI21_6.mat\n",
            "N15_M07_F10_KI21_7.mat\n",
            "N15_M07_F10_KI21_8.mat\n",
            "N15_M07_F10_KI21_9.mat\n",
            "N15_M07_F10_KI21_10.mat\n",
            "N15_M07_F10_KI21_11.mat\n",
            "N15_M07_F10_KI21_12.mat\n",
            "N15_M07_F10_KI21_13.mat\n",
            "N15_M07_F10_KI21_14.mat\n",
            "N15_M07_F10_KI21_15.mat\n",
            "N15_M07_F10_KI21_16.mat\n",
            "N15_M07_F10_KI21_17.mat\n",
            "N15_M07_F10_KI21_18.mat\n",
            "N15_M07_F10_KI21_19.mat\n",
            "N15_M07_F10_KI21_20.mat\n",
            "N15_M07_F10_KA22_1.mat\n",
            "N15_M07_F10_KA22_2.mat\n",
            "N15_M07_F10_KA22_3.mat\n",
            "N15_M07_F10_KA22_4.mat\n",
            "N15_M07_F10_KA22_5.mat\n",
            "N15_M07_F10_KA22_6.mat\n",
            "N15_M07_F10_KA22_7.mat\n",
            "N15_M07_F10_KA22_8.mat\n",
            "N15_M07_F10_KA22_9.mat\n",
            "N15_M07_F10_KA22_10.mat\n",
            "N15_M07_F10_KA22_11.mat\n",
            "N15_M07_F10_KA22_12.mat\n",
            "N15_M07_F10_KA22_13.mat\n",
            "N15_M07_F10_KA22_14.mat\n",
            "N15_M07_F10_KA22_15.mat\n",
            "N15_M07_F10_KA22_16.mat\n",
            "N15_M07_F10_KA22_17.mat\n",
            "N15_M07_F10_KA22_18.mat\n",
            "N15_M07_F10_KA22_19.mat\n",
            "N15_M07_F10_KA22_20.mat\n",
            "N15_M07_F10_KA30_3.mat\n",
            "N15_M07_F10_KA30_5.mat\n",
            "N15_M07_F10_KA30_9.mat\n",
            "N15_M07_F10_KA30_10.mat\n",
            "N15_M07_F10_KA30_11.mat\n",
            "N15_M07_F10_KA30_12.mat\n",
            "N15_M07_F10_KA30_14.mat\n",
            "N15_M07_F10_KA30_15.mat\n",
            "N15_M07_F10_KA30_16.mat\n",
            "N15_M07_F10_KA30_17.mat\n",
            "N15_M07_F10_KA30_19.mat\n",
            "N15_M07_F10_KA30_2.mat\n",
            "N15_M07_F10_KA30_4.mat\n",
            "N15_M07_F10_KA30_6.mat\n",
            "N15_M07_F10_KA30_7.mat\n",
            "N15_M07_F10_KA30_20.mat\n",
            "N15_M07_F10_KA30_1.mat\n",
            "N15_M07_F10_KA30_8.mat\n",
            "N15_M07_F10_KA30_13.mat\n",
            "N15_M07_F10_KA30_18.mat\n"
          ]
        },
        {
          "data": {
            "image/png": "[encoded data removed]",
            "text/plain": [
              "<Figure size 640x480 with 1 Axes>"
            ]
          },
          "metadata": {},
          "output_type": "display_data"
        }
      ],
      "source": [
        "training_dataset, testing_dataset = getDataset(code,signal=\"vibration\",width=256000,ratios=\"6:5\");"
      ]
    },
    {
      "cell_type": "code",
      "execution_count": null,
      "metadata": {
        "colab": {
          "background_save": true
        },
        "id": "1oH_9QXjCtJh"
      },
      "outputs": [],
      "source": [
        "training_dataloader = DataLoader(training_dataset, batch_size=32, shuffle=True);\n",
        "testing_dataloader = DataLoader(testing_dataset, batch_size=32, shuffle=True);"
      ]
    },
    {
      "cell_type": "markdown",
      "source": [
        "#### Transformer Model Creation"
      ],
      "metadata": {
        "id": "WMJHxiHHHsvZ"
      }
    },
    {
      "cell_type": "code",
      "execution_count": null,
      "metadata": {
        "colab": {
          "background_save": true
        },
        "id": "voNvaz4GCv43"
      },
      "outputs": [],
      "source": [
        "class Transformer(nn.Module):\n",
        "    def __init__(self, seq_len=250, input_dim=1024, d_model=128, nhead=8, num_encoder_layers=4, dim_feedforward=256, num_classes=3):\n",
        "        super(Transformer, self).__init__();\n",
        "\n",
        "        self.positional_encoding = nn.Embedding(seq_len, input_dim);\n",
        "\n",
        "        encoder_layer = nn.TransformerEncoderLayer(d_model = input_dim,\n",
        "                                                   nhead = nhead,\n",
        "                                                   dim_feedforward = dim_feedforward,\n",
        "                                                   activation='gelu',\n",
        "                                                   batch_first = True);\n",
        "\n",
        "        self.transformer_encoder = nn.TransformerEncoder(\n",
        "            encoder_layer,\n",
        "            num_layers = num_encoder_layers\n",
        "        );\n",
        "\n",
        "        self.fc1 = nn.Linear(input_dim, seq_len//2);\n",
        "        self.fc2 = nn.Linear(seq_len//2, 3);\n",
        "\n",
        "        self.gelu = nn.GELU();\n",
        "\n",
        "    def forward(self, x):\n",
        "        batch_size, seq_len, input_dim = x.shape;\n",
        "\n",
        "        x = x + self.positional_encoding(\n",
        "            torch.arange(0, seq_len).to(device)\n",
        "        );\n",
        "\n",
        "        x = self.transformer_encoder(x);\n",
        "\n",
        "        x = self.fc1(x);\n",
        "        x = self.gelu(x);\n",
        "\n",
        "        x = self.fc2(x);\n",
        "\n",
        "        return x;"
      ]
    },
    {
      "cell_type": "code",
      "execution_count": null,
      "metadata": {
        "colab": {
          "background_save": true,
          "base_uri": "https://localhost:8080/"
        },
        "id": "zOKrVhovCxXj",
        "outputId": "0b8e23d5-ecce-4684-91fb-ea06d1c46979"
      },
      "outputs": [
        {
          "name": "stdout",
          "output_type": "stream",
          "text": [
            "Transformer(\n",
            "  (positional_encoding): Embedding(250, 1024)\n",
            "  (transformer_encoder): TransformerEncoder(\n",
            "    (layers): ModuleList(\n",
            "      (0-3): 4 x TransformerEncoderLayer(\n",
            "        (self_attn): MultiheadAttention(\n",
            "          (out_proj): NonDynamicallyQuantizableLinear(in_features=1024, out_features=1024, bias=True)\n",
            "        )\n",
            "        (linear1): Linear(in_features=1024, out_features=256, bias=True)\n",
            "        (dropout): Dropout(p=0.1, inplace=False)\n",
            "        (linear2): Linear(in_features=256, out_features=1024, bias=True)\n",
            "        (norm1): LayerNorm((1024,), eps=1e-05, elementwise_affine=True)\n",
            "        (norm2): LayerNorm((1024,), eps=1e-05, elementwise_affine=True)\n",
            "        (dropout1): Dropout(p=0.1, inplace=False)\n",
            "        (dropout2): Dropout(p=0.1, inplace=False)\n",
            "      )\n",
            "    )\n",
            "  )\n",
            "  (fc1): Linear(in_features=1024, out_features=125, bias=True)\n",
            "  (fc2): Linear(in_features=125, out_features=3, bias=True)\n",
            "  (gelu): GELU(approximate='none')\n",
            ")\n"
          ]
        }
      ],
      "source": [
        "model = Transformer();\n",
        "model.to(device);\n",
        "\n",
        "print(model);"
      ]
    },
    {
      "cell_type": "code",
      "execution_count": null,
      "metadata": {
        "colab": {
          "background_save": true
        },
        "id": "Ienb5vtVCyss"
      },
      "outputs": [],
      "source": [
        "loss = nn.CrossEntropyLoss();\n",
        "optimizer = torch.optim.AdamW(model.parameters(), lr = 0.00001);"
      ]
    },
    {
      "cell_type": "code",
      "execution_count": null,
      "metadata": {
        "colab": {
          "background_save": true
        },
        "id": "BmtfqrCYCztQ"
      },
      "outputs": [],
      "source": [
        "accuracy = Accuracy(task=\"multiclass\", num_classes=3).to(device);\n",
        "precision = Precision(task=\"multiclass\", num_classes=3).to(device);\n",
        "recall = Recall(task=\"multiclass\", num_classes=3).to(device);\n",
        "f1_score = F1Score(task=\"multiclass\", num_classes=3).to(device);\n",
        "conf_matrix_metric = ConfusionMatrix(task=\"multiclass\", num_classes=3).to(device);"
      ]
    },
    {
      "cell_type": "code",
      "execution_count": null,
      "metadata": {
        "colab": {
          "background_save": true
        },
        "id": "6rbCccbaC1bz"
      },
      "outputs": [],
      "source": [
        "result_dir = \"/content/drive/MyDrive/Results/Transformer\";\n",
        "if not os.path.exists(result_dir):\n",
        "    os.makedirs(result_dir);"
      ]
    },
    {
      "cell_type": "code",
      "execution_count": null,
      "metadata": {
        "colab": {
          "background_save": true
        },
        "id": "BCx_O4f3C2gn"
      },
      "outputs": [],
      "source": [
        "epochs = 100;"
      ]
    },
    {
      "cell_type": "markdown",
      "source": [
        "#### Model Training"
      ],
      "metadata": {
        "id": "ZjSRdnbUHy_r"
      }
    },
    {
      "cell_type": "code",
      "execution_count": null,
      "metadata": {
        "colab": {
          "base_uri": "https://localhost:8080/"
        },
        "id": "RW4yVoPTC3zl",
        "outputId": "7b9938cb-b3b5-459e-eb07-2da71e2c9c56",
        "collapsed": true
      },
      "outputs": [
        {
          "output_type": "stream",
          "name": "stdout",
          "text": [
            "Epoch 1/100 | Train Loss: 1.0775 | Test Loss: 1.3985 | Train Acc: 0.4273 | Test Acc: 0.1615 | Train F1: 0.4273 | Test F1: 0.1615\n",
            "Epoch 2/100 | Train Loss: 1.0381 | Test Loss: 1.1674 | Train Acc: 0.4534 | Test Acc: 0.1693 | Train F1: 0.4534 | Test F1: 0.1693\n",
            "Epoch 3/100 | Train Loss: 0.9787 | Test Loss: 1.2865 | Train Acc: 0.5733 | Test Acc: 0.1693 | Train F1: 0.5733 | Test F1: 0.1693\n",
            "Epoch 4/100 | Train Loss: 0.7303 | Test Loss: 1.4224 | Train Acc: 0.6429 | Test Acc: 0.2995 | Train F1: 0.6429 | Test F1: 0.2995\n",
            "Epoch 5/100 | Train Loss: 0.2375 | Test Loss: 3.9817 | Train Acc: 0.9630 | Test Acc: 0.2005 | Train F1: 0.9630 | Test F1: 0.2005\n",
            "Epoch 6/100 | Train Loss: 0.0814 | Test Loss: 3.9682 | Train Acc: 0.9815 | Test Acc: 0.3281 | Train F1: 0.9815 | Test F1: 0.3281\n",
            "Epoch 7/100 | Train Loss: 0.0331 | Test Loss: 5.1569 | Train Acc: 0.9955 | Test Acc: 0.2812 | Train F1: 0.9955 | Test F1: 0.2812\n",
            "Epoch 8/100 | Train Loss: 0.0033 | Test Loss: 6.2578 | Train Acc: 1.0000 | Test Acc: 0.2396 | Train F1: 1.0000 | Test F1: 0.2396\n",
            "Epoch 9/100 | Train Loss: 0.0028 | Test Loss: 6.6620 | Train Acc: 1.0000 | Test Acc: 0.2240 | Train F1: 1.0000 | Test F1: 0.2240\n",
            "Epoch 10/100 | Train Loss: 0.0004 | Test Loss: 7.0258 | Train Acc: 1.0000 | Test Acc: 0.2083 | Train F1: 1.0000 | Test F1: 0.2083\n",
            "Epoch 11/100 | Train Loss: 0.0003 | Test Loss: 7.0945 | Train Acc: 1.0000 | Test Acc: 0.2083 | Train F1: 1.0000 | Test F1: 0.2083\n",
            "Epoch 12/100 | Train Loss: 0.0003 | Test Loss: 7.1830 | Train Acc: 1.0000 | Test Acc: 0.2031 | Train F1: 1.0000 | Test F1: 0.2031\n",
            "Epoch 13/100 | Train Loss: 0.0003 | Test Loss: 7.1542 | Train Acc: 1.0000 | Test Acc: 0.2109 | Train F1: 1.0000 | Test F1: 0.2109\n",
            "Epoch 14/100 | Train Loss: 0.0003 | Test Loss: 7.1649 | Train Acc: 1.0000 | Test Acc: 0.2083 | Train F1: 1.0000 | Test F1: 0.2083\n",
            "Epoch 15/100 | Train Loss: 0.0003 | Test Loss: 7.0962 | Train Acc: 1.0000 | Test Acc: 0.2135 | Train F1: 1.0000 | Test F1: 0.2135\n",
            "Epoch 16/100 | Train Loss: 0.0002 | Test Loss: 7.1608 | Train Acc: 1.0000 | Test Acc: 0.2057 | Train F1: 1.0000 | Test F1: 0.2057\n",
            "Epoch 17/100 | Train Loss: 0.0002 | Test Loss: 7.1452 | Train Acc: 1.0000 | Test Acc: 0.2109 | Train F1: 1.0000 | Test F1: 0.2109\n",
            "Epoch 18/100 | Train Loss: 0.0002 | Test Loss: 7.1123 | Train Acc: 1.0000 | Test Acc: 0.2109 | Train F1: 1.0000 | Test F1: 0.2109\n",
            "Epoch 19/100 | Train Loss: 0.0002 | Test Loss: 7.1972 | Train Acc: 1.0000 | Test Acc: 0.2005 | Train F1: 1.0000 | Test F1: 0.2005\n",
            "Epoch 20/100 | Train Loss: 0.0002 | Test Loss: 7.1481 | Train Acc: 1.0000 | Test Acc: 0.2109 | Train F1: 1.0000 | Test F1: 0.2109\n",
            "Epoch 21/100 | Train Loss: 0.0002 | Test Loss: 7.0933 | Train Acc: 1.0000 | Test Acc: 0.2135 | Train F1: 1.0000 | Test F1: 0.2135\n",
            "Epoch 22/100 | Train Loss: 0.0002 | Test Loss: 7.0962 | Train Acc: 1.0000 | Test Acc: 0.2109 | Train F1: 1.0000 | Test F1: 0.2109\n",
            "Epoch 23/100 | Train Loss: 0.0002 | Test Loss: 7.1254 | Train Acc: 1.0000 | Test Acc: 0.2109 | Train F1: 1.0000 | Test F1: 0.2109\n",
            "Epoch 24/100 | Train Loss: 0.0002 | Test Loss: 7.1000 | Train Acc: 1.0000 | Test Acc: 0.2109 | Train F1: 1.0000 | Test F1: 0.2109\n",
            "Epoch 25/100 | Train Loss: 0.0002 | Test Loss: 7.1398 | Train Acc: 1.0000 | Test Acc: 0.2057 | Train F1: 1.0000 | Test F1: 0.2057\n",
            "Epoch 26/100 | Train Loss: 0.0002 | Test Loss: 7.1428 | Train Acc: 1.0000 | Test Acc: 0.2057 | Train F1: 1.0000 | Test F1: 0.2057\n",
            "\n",
            "Epoch 27/100 | Train Loss: 0.0002 | Test Loss: 7.1096 | Train Acc: 1.0000 | Test Acc: 0.2083 | Train F1: 1.0000 | Test F1: 0.2083\n",
            "Epoch 28/100 | Train Loss: 0.0002 | Test Loss: 7.2005 | Train Acc: 1.0000 | Test Acc: 0.2031 | Train F1: 1.0000 | Test F1: 0.2031\n",
            "Epoch 29/100 | Train Loss: 0.0002 | Test Loss: 7.1665 | Train Acc: 1.0000 | Test Acc: 0.2057 | Train F1: 1.0000 | Test F1: 0.2057\n",
            "Epoch 30/100 | Train Loss: 0.0002 | Test Loss: 7.1580 | Train Acc: 1.0000 | Test Acc: 0.2083 | Train F1: 1.0000 | Test F1: 0.2083\n",
            "Epoch 31/100 | Train Loss: 0.0001 | Test Loss: 7.1692 | Train Acc: 1.0000 | Test Acc: 0.2031 | Train F1: 1.0000 | Test F1: 0.2031\n",
            "Epoch 32/100 | Train Loss: 0.0001 | Test Loss: 7.1684 | Train Acc: 1.0000 | Test Acc: 0.2031 | Train F1: 1.0000 | Test F1: 0.2031\n",
            "Epoch 33/100 | Train Loss: 0.0001 | Test Loss: 7.0924 | Train Acc: 1.0000 | Test Acc: 0.2083 | Train F1: 1.0000 | Test F1: 0.2083\n",
            "Epoch 34/100 | Train Loss: 0.0001 | Test Loss: 7.1938 | Train Acc: 1.0000 | Test Acc: 0.2109 | Train F1: 1.0000 | Test F1: 0.2109\n",
            "Epoch 35/100 | Train Loss: 0.0001 | Test Loss: 7.0491 | Train Acc: 1.0000 | Test Acc: 0.2240 | Train F1: 1.0000 | Test F1: 0.2240\n",
            "Epoch 36/100 | Train Loss: 0.0001 | Test Loss: 7.0989 | Train Acc: 1.0000 | Test Acc: 0.2422 | Train F1: 1.0000 | Test F1: 0.2422\n",
            "Epoch 37/100 | Train Loss: 0.0001 | Test Loss: 7.1803 | Train Acc: 1.0000 | Test Acc: 0.2344 | Train F1: 1.0000 | Test F1: 0.2344\n",
            "Epoch 38/100 | Train Loss: 0.0001 | Test Loss: 7.1932 | Train Acc: 1.0000 | Test Acc: 0.2318 | Train F1: 1.0000 | Test F1: 0.2318\n",
            "Epoch 39/100 | Train Loss: 0.0001 | Test Loss: 7.2086 | Train Acc: 1.0000 | Test Acc: 0.2318 | Train F1: 1.0000 | Test F1: 0.2318\n",
            "Epoch 40/100 | Train Loss: 0.0001 | Test Loss: 7.2623 | Train Acc: 1.0000 | Test Acc: 0.2292 | Train F1: 1.0000 | Test F1: 0.2292\n",
            "Epoch 41/100 | Train Loss: 0.0001 | Test Loss: 7.1929 | Train Acc: 1.0000 | Test Acc: 0.2396 | Train F1: 1.0000 | Test F1: 0.2396\n",
            "Epoch 42/100 | Train Loss: 0.0001 | Test Loss: 7.2800 | Train Acc: 1.0000 | Test Acc: 0.2292 | Train F1: 1.0000 | Test F1: 0.2292\n",
            "Epoch 43/100 | Train Loss: 0.0001 | Test Loss: 7.2981 | Train Acc: 1.0000 | Test Acc: 0.2292 | Train F1: 1.0000 | Test F1: 0.2292\n",
            "Epoch 44/100 | Train Loss: 0.0001 | Test Loss: 7.2255 | Train Acc: 1.0000 | Test Acc: 0.2422 | Train F1: 1.0000 | Test F1: 0.2422\n",
            "Epoch 45/100 | Train Loss: 0.0001 | Test Loss: 7.2893 | Train Acc: 1.0000 | Test Acc: 0.2370 | Train F1: 1.0000 | Test F1: 0.2370\n",
            "Epoch 46/100 | Train Loss: 0.0001 | Test Loss: 7.2362 | Train Acc: 1.0000 | Test Acc: 0.2422 | Train F1: 1.0000 | Test F1: 0.2422\n",
            "Epoch 47/100 | Train Loss: 0.0001 | Test Loss: 7.2861 | Train Acc: 1.0000 | Test Acc: 0.2370 | Train F1: 1.0000 | Test F1: 0.2370\n",
            "Epoch 48/100 | Train Loss: 0.0001 | Test Loss: 7.3758 | Train Acc: 1.0000 | Test Acc: 0.2344 | Train F1: 1.0000 | Test F1: 0.2344\n",
            "Epoch 49/100 | Train Loss: 0.0001 | Test Loss: 7.3438 | Train Acc: 1.0000 | Test Acc: 0.2396 | Train F1: 1.0000 | Test F1: 0.2396\n",
            "Epoch 50/100 | Train Loss: 0.0001 | Test Loss: 7.1892 | Train Acc: 1.0000 | Test Acc: 0.2526 | Train F1: 1.0000 | Test F1: 0.2526\n",
            "Epoch 51/100 | Train Loss: 0.0001 | Test Loss: 7.2908 | Train Acc: 1.0000 | Test Acc: 0.2474 | Train F1: 1.0000 | Test F1: 0.2474\n",
            "Epoch 52/100 | Train Loss: 0.0001 | Test Loss: 7.3310 | Train Acc: 1.0000 | Test Acc: 0.2448 | Train F1: 1.0000 | Test F1: 0.2448\n",
            "Epoch 53/100 | Train Loss: 0.0001 | Test Loss: 7.3700 | Train Acc: 1.0000 | Test Acc: 0.2396 | Train F1: 1.0000 | Test F1: 0.2396\n",
            "Epoch 54/100 | Train Loss: 0.0001 | Test Loss: 7.4480 | Train Acc: 1.0000 | Test Acc: 0.2344 | Train F1: 1.0000 | Test F1: 0.2344\n",
            "Epoch 55/100 | Train Loss: 0.0001 | Test Loss: 7.2852 | Train Acc: 1.0000 | Test Acc: 0.2448 | Train F1: 1.0000 | Test F1: 0.2448\n",
            "Epoch 56/100 | Train Loss: 0.0001 | Test Loss: 7.4280 | Train Acc: 1.0000 | Test Acc: 0.2370 | Train F1: 1.0000 | Test F1: 0.2370\n",
            "Epoch 57/100 | Train Loss: 0.0001 | Test Loss: 7.4071 | Train Acc: 1.0000 | Test Acc: 0.2370 | Train F1: 1.0000 | Test F1: 0.2370\n",
            "Epoch 58/100 | Train Loss: 0.0001 | Test Loss: 7.3712 | Train Acc: 1.0000 | Test Acc: 0.2448 | Train F1: 1.0000 | Test F1: 0.2448\n",
            "Epoch 59/100 | Train Loss: 0.0001 | Test Loss: 7.4279 | Train Acc: 1.0000 | Test Acc: 0.2396 | Train F1: 1.0000 | Test F1: 0.2396\n",
            "Epoch 60/100 | Train Loss: 0.0001 | Test Loss: 7.4701 | Train Acc: 1.0000 | Test Acc: 0.2370 | Train F1: 1.0000 | Test F1: 0.2370\n",
            "Epoch 61/100 | Train Loss: 0.0001 | Test Loss: 7.4887 | Train Acc: 1.0000 | Test Acc: 0.2344 | Train F1: 1.0000 | Test F1: 0.2344\n",
            "Epoch 62/100 | Train Loss: 0.0001 | Test Loss: 7.4409 | Train Acc: 1.0000 | Test Acc: 0.2396 | Train F1: 1.0000 | Test F1: 0.2396\n",
            "Epoch 63/100 | Train Loss: 0.0001 | Test Loss: 7.4373 | Train Acc: 1.0000 | Test Acc: 0.2422 | Train F1: 1.0000 | Test F1: 0.2422\n",
            "Epoch 64/100 | Train Loss: 0.0001 | Test Loss: 7.5204 | Train Acc: 1.0000 | Test Acc: 0.2370 | Train F1: 1.0000 | Test F1: 0.2370\n",
            "Epoch 65/100 | Train Loss: 0.0001 | Test Loss: 7.4955 | Train Acc: 1.0000 | Test Acc: 0.2396 | Train F1: 1.0000 | Test F1: 0.2396\n",
            "Epoch 66/100 | Train Loss: 0.0001 | Test Loss: 7.4721 | Train Acc: 1.0000 | Test Acc: 0.2422 | Train F1: 1.0000 | Test F1: 0.2422\n"
          ]
        }
      ],
      "source": [
        "metrics_list = [];\n",
        "\n",
        "for epoch in range(epochs):\n",
        "\n",
        "    train_loss_per_epoch = [];\n",
        "    test_loss_per_epcoh = [];\n",
        "\n",
        "    train_acc_per_epoch = [];\n",
        "    test_acc_per_epoch = [];\n",
        "\n",
        "    train_precision_per_epoch = [];\n",
        "    test_precision_per_epoch = [];\n",
        "\n",
        "    train_recall_per_epoch = [];\n",
        "    test_recall_per_epoch = [];\n",
        "\n",
        "    train_f1_per_epoch = [];\n",
        "    test_f1_per_epoch = [];\n",
        "\n",
        "    traing_cf = np.zeros((3,3));\n",
        "    test_cf = np.zeros((3,3));\n",
        "\n",
        "    model.train();\n",
        "    for x, y in training_dataloader:\n",
        "        optimizer.zero_grad();\n",
        "        x = x.to(device);\n",
        "        y = y.to(device);\n",
        "\n",
        "        y_pred = model(x);\n",
        "\n",
        "        loss_value = loss(y_pred.view(-1,3), y.view(-1));\n",
        "\n",
        "        loss_value.backward();\n",
        "        optimizer.step();\n",
        "\n",
        "        y_pred = y_pred.argmax(dim=-1);\n",
        "\n",
        "        y_pred_mm,_ = torch.mode(y_pred, dim=-1);\n",
        "        y_mm,_ = torch.mode(y, dim=-1);\n",
        "\n",
        "        acc = accuracy(y_pred_mm, y_mm);\n",
        "        prec = precision(y_pred_mm, y_mm);\n",
        "        rec = recall(y_pred_mm, y_mm);\n",
        "        f1 = f1_score(y_pred_mm, y_mm);\n",
        "        conf_matrix = conf_matrix_metric(y_pred_mm, y_mm);\n",
        "\n",
        "        traing_cf += conf_matrix.cpu().numpy();\n",
        "\n",
        "        train_loss_per_epoch.append(loss_value.item());\n",
        "        train_acc_per_epoch.append(acc.item());\n",
        "        train_precision_per_epoch.append(prec.item());\n",
        "        train_recall_per_epoch.append(rec.item());\n",
        "        train_f1_per_epoch.append(f1.item());\n",
        "\n",
        "    model.eval();\n",
        "    with torch.no_grad():\n",
        "        for x, y in testing_dataloader:\n",
        "            x = x.to(device);\n",
        "            y = y.to(device);\n",
        "\n",
        "            y_pred = model(x);\n",
        "\n",
        "            loss_value = loss(y_pred.view(-1,3), y.view(-1));\n",
        "\n",
        "            y_pred = y_pred.argmax(dim=-1);\n",
        "\n",
        "            y_pred_mm,_ = torch.mode(y_pred, dim=-1);\n",
        "            y_mm,_ = torch.mode(y, dim=-1);\n",
        "\n",
        "            acc = accuracy(y_pred_mm, y_mm);\n",
        "            prec = precision(y_pred_mm, y_mm);\n",
        "            rec = recall(y_pred_mm, y_mm);\n",
        "            f1 = f1_score(y_pred_mm, y_mm);\n",
        "            conf_matrix = conf_matrix_metric(y_pred_mm, y_mm);\n",
        "\n",
        "            test_cf += conf_matrix.cpu().numpy();\n",
        "\n",
        "            test_loss_per_epcoh.append(loss_value.item());\n",
        "            test_acc_per_epoch.append(acc.item());\n",
        "            test_precision_per_epoch.append(prec.item());\n",
        "            test_recall_per_epoch.append(rec.item());\n",
        "            test_f1_per_epoch.append(f1.item());\n",
        "\n",
        "\n",
        "    metrics_list.append({\n",
        "        \"train_loss\": np.mean(train_loss_per_epoch),\n",
        "        \"test_loss\": np.mean(test_loss_per_epcoh),\n",
        "        \"train_acc\": np.mean(train_acc_per_epoch),\n",
        "        \"test_acc\": np.mean(test_acc_per_epoch),\n",
        "        \"train_precision\": np.mean(train_precision_per_epoch),\n",
        "        \"test_precision\": np.mean(test_precision_per_epoch),\n",
        "        \"train_recall\": np.mean(train_recall_per_epoch),\n",
        "        \"test_recall\": np.mean(test_recall_per_epoch),\n",
        "        \"train_f1\": np.mean(train_f1_per_epoch),\n",
        "        \"test_f1\": np.mean(test_f1_per_epoch),\n",
        "        \"train_cf\": json.dumps(traing_cf.tolist()),\n",
        "        \"test_cf\": json.dumps(test_cf.tolist())\n",
        "    });\n",
        "\n",
        "    maxx = max(metrics_list, key=lambda x: x[\"test_f1\"]);\n",
        "\n",
        "    if maxx[\"test_f1\"] <= metrics_list[-1][\"test_f1\"]:\n",
        "        torch.save(model.state_dict(), os.path.join(result_dir,\"bb_mm.pth\"));\n",
        "\n",
        "    print(f\"Epoch {epoch+1}/{epochs} | Train Loss: {metrics_list[-1]['train_loss']:.4f} | Test Loss: {metrics_list[-1]['test_loss']:.4f} | Train Acc: {metrics_list[-1]['train_acc']:.4f} | Test Acc: {metrics_list[-1]['test_acc']:.4f} | Train F1: {metrics_list[-1]['train_f1']:.4f} | Test F1: {metrics_list[-1]['test_f1']:.4f}\");"
      ]
    }
  ],
  "metadata": {
    "accelerator": "GPU",
    "colab": {
      "gpuType": "T4",
      "provenance": []
    },
    "kernelspec": {
      "display_name": "Python 3",
      "name": "python3"
    },
    "language_info": {
      "name": "python"
    }
  },
  "nbformat": 4,
  "nbformat_minor": 0
}